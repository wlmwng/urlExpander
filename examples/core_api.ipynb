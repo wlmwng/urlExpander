{
 "cells": [
  {
   "cell_type": "markdown",
   "metadata": {},
   "source": [
    "# Core API Quickstart\n",
    "By [Leon Yin](leonyin.org) for [SMaPP NYU](https://wp.nyu.edu/smapp/)\n",
    "\n",
    "[urlExpander](https://github.com/SMAPPNYU/urlExpander) is a Python package for quickly and thoroughly expanding URLs.\n",
    "\n",
    "You can download the software using pip:"
   ]
  },
  {
   "cell_type": "code",
   "execution_count": 1,
   "metadata": {},
   "outputs": [
    {
     "name": "stdout",
     "output_type": "stream",
     "text": [
      "Updated 2021-11-05 16:35:16.957041\n",
      "By QuickStart User\n",
      "Using Python 3.8.10\n",
      "On Linux-5.4.0-89-generic-x86_64-with-glibc2.29\n",
      "This notebook is using urlExpander v0.0.38\n"
     ]
    }
   ],
   "source": [
    "import os\n",
    "import urlexpander\n",
    "from runtimestamp.runtimestamp import runtimestamp\n",
    "runtimestamp('QuickStart User')\n",
    "print(f\"This notebook is using urlExpander v{urlexpander.__version__}\")"
   ]
  },
  {
   "cell_type": "markdown",
   "metadata": {},
   "source": [
    "Here is a toy example of some URLs taken from Congressional Twitter accounts:"
   ]
  },
  {
   "cell_type": "code",
   "execution_count": 2,
   "metadata": {},
   "outputs": [],
   "source": [
    "urls = [\n",
    "    'https://trib.al/xXI5ruM',\n",
    "    'http://bit.ly/1Sv81cj',\n",
    "    'https://www.youtube.com/watch?v=8NwKcfXvGl4',\n",
    "    'https://t.co/zNU1eHhQRn',\n",
    "]"
   ]
  },
  {
   "cell_type": "markdown",
   "metadata": {},
   "source": [
    "We can use the `expand` function (see the code) to unshorten any link:"
   ]
  },
  {
   "cell_type": "code",
   "execution_count": 3,
   "metadata": {},
   "outputs": [
    {
     "data": {
      "text/plain": [
       "'https://www.breitbart.com/clips/2017/12/31/lindsey-graham-trump-just-cant-tweet-iran/'"
      ]
     },
     "execution_count": 3,
     "metadata": {},
     "output_type": "execute_result"
    }
   ],
   "source": [
    "urlexpander.expand(urls[0])"
   ]
  },
  {
   "cell_type": "markdown",
   "metadata": {},
   "source": [
    "It also works on any list of URLs."
   ]
  },
  {
   "cell_type": "code",
   "execution_count": 4,
   "metadata": {},
   "outputs": [
    {
     "data": {
      "text/plain": [
       "['https://www.breitbart.com/clips/2017/12/31/lindsey-graham-trump-just-cant-tweet-iran/',\n",
       " 'https://www.hugedomains.com/domain_profile.cfm?d=billshusterforcongress&e=com',\n",
       " 'https://www.youtube.com/watch?v=8NwKcfXvGl4',\n",
       " 'https://www.nfib.com/content/press-release/elections/small-business-endorses-shuster-for-reelection-73730/?utm_campaign=Advocacy&utm_source=Twitter&utm_medium=Social']"
      ]
     },
     "execution_count": 4,
     "metadata": {},
     "output_type": "execute_result"
    }
   ],
   "source": [
    "urlexpander.expand(urls)"
   ]
  },
  {
   "cell_type": "markdown",
   "metadata": {},
   "source": [
    "To save compute time, we can skip links that don't need to be expanded.<br>\n",
    "The `is_short` function takes any url and checks if the domain is from a known list of link shorteners"
   ]
  },
  {
   "cell_type": "code",
   "execution_count": 5,
   "metadata": {},
   "outputs": [
    {
     "name": "stdout",
     "output_type": "stream",
     "text": [
      "http://bit.ly/1Sv81cj returns:\n"
     ]
    },
    {
     "data": {
      "text/plain": [
       "True"
      ]
     },
     "execution_count": 5,
     "metadata": {},
     "output_type": "execute_result"
    }
   ],
   "source": [
    "print(f\"{urls[1]} returns:\")\n",
    "urlexpander.url_utils.is_short(urls[1])"
   ]
  },
  {
   "cell_type": "markdown",
   "metadata": {},
   "source": [
    "bit.ly is probably the best known link shortener, Youtube.com however is not a link shortener!"
   ]
  },
  {
   "cell_type": "code",
   "execution_count": 6,
   "metadata": {},
   "outputs": [
    {
     "name": "stdout",
     "output_type": "stream",
     "text": [
      "https://www.youtube.com/watch?v=8NwKcfXvGl4 returns:\n"
     ]
    },
    {
     "data": {
      "text/plain": [
       "False"
      ]
     },
     "execution_count": 6,
     "metadata": {},
     "output_type": "execute_result"
    }
   ],
   "source": [
    "print(f\"{urls[2]} returns:\")\n",
    "urlexpander.url_utils.is_short(urls[2])"
   ]
  },
  {
   "cell_type": "markdown",
   "metadata": {},
   "source": [
    "urlExpander takes advantage of a list of known domains that offer link shortening services."
   ]
  },
  {
   "cell_type": "code",
   "execution_count": 7,
   "metadata": {},
   "outputs": [
    {
     "name": "stdout",
     "output_type": "stream",
     "text": [
      "86\n"
     ]
    }
   ],
   "source": [
    "known_shorteners = urlexpander.constants.all_short_domains.copy()\n",
    "print(len(known_shorteners))"
   ]
  },
  {
   "cell_type": "markdown",
   "metadata": {},
   "source": [
    "You can make modifications or use your own `list_of_domains` as an argument for the `is_short` function."
   ]
  },
  {
   "cell_type": "code",
   "execution_count": 8,
   "metadata": {},
   "outputs": [],
   "source": [
    "known_shorteners += ['youtube.com']"
   ]
  },
  {
   "cell_type": "code",
   "execution_count": 9,
   "metadata": {},
   "outputs": [
    {
     "name": "stdout",
     "output_type": "stream",
     "text": [
      "Now https://www.youtube.com/watch?v=8NwKcfXvGl4 returns:\n"
     ]
    },
    {
     "data": {
      "text/plain": [
       "True"
      ]
     },
     "execution_count": 9,
     "metadata": {},
     "output_type": "execute_result"
    }
   ],
   "source": [
    "print(f\"Now {urls[2]} returns:\")\n",
    "urlexpander.url_utils.is_short(urls[2], list_of_domains=known_shorteners) # this is the default"
   ]
  },
  {
   "cell_type": "markdown",
   "metadata": {},
   "source": [
    "Now we can shorten our workload:"
   ]
  },
  {
   "cell_type": "code",
   "execution_count": 10,
   "metadata": {},
   "outputs": [
    {
     "data": {
      "text/plain": [
       "['https://trib.al/xXI5ruM', 'http://bit.ly/1Sv81cj', 'https://t.co/zNU1eHhQRn']"
      ]
     },
     "execution_count": 10,
     "metadata": {},
     "output_type": "execute_result"
    }
   ],
   "source": [
    "# filter only domains that need to be shortenened\n",
    "urls_to_shorten = [link for link in urls if urlexpander.url_utils.is_short(link)]\n",
    "urls_to_shorten"
   ]
  },
  {
   "cell_type": "markdown",
   "metadata": {},
   "source": [
    "urlExpander's `multithread_expand()` does heavy lifting to quickly and thoroughly expand a list of links:"
   ]
  },
  {
   "cell_type": "code",
   "execution_count": 11,
   "metadata": {},
   "outputs": [
    {
     "data": {
      "text/plain": [
       "['https://www.breitbart.com/clips/2017/12/31/lindsey-graham-trump-just-cant-tweet-iran/',\n",
       " 'https://www.hugedomains.com/domain_profile.cfm?d=billshusterforcongress&e=com',\n",
       " 'https://www.nfib.com/content/press-release/elections/small-business-endorses-shuster-for-reelection-73730/?utm_campaign=Advocacy&utm_source=Twitter&utm_medium=Social']"
      ]
     },
     "execution_count": 11,
     "metadata": {},
     "output_type": "execute_result"
    }
   ],
   "source": [
    "expanded_urls = urlexpander.expand(urls_to_shorten)\n",
    "expanded_urls"
   ]
  },
  {
   "cell_type": "markdown",
   "metadata": {},
   "source": [
    "<i>Note that URLs that resolve to defunct pages, still return the domain name -- followed by the type of error surrounded by two underscores IE `http://www.billshusterforcongress.com/__CONNECTIONPOOL_ERROR__`.</i>\n",
    "\n",
    "Instead of filtering the inputs before running the `expand` function, you can assign a filter using the `filter_function` argument.<br>\n",
    "Filter functions can be any boolean function that operates on a string. Below is an example function that filters for t.co links:"
   ]
  },
  {
   "cell_type": "code",
   "execution_count": 12,
   "metadata": {},
   "outputs": [],
   "source": [
    "def custom_filter(url):\n",
    "    '''This function returns True if the url is a shortened Twitter URL'''\n",
    "    if urlexpander.url_utils.get_domain(url) == 't.co':\n",
    "        return True\n",
    "    else:\n",
    "        return False"
   ]
  },
  {
   "cell_type": "code",
   "execution_count": 13,
   "metadata": {},
   "outputs": [
    {
     "name": "stdout",
     "output_type": "stream",
     "text": [
      "There are 1 URLs to expand\n"
     ]
    },
    {
     "name": "stderr",
     "output_type": "stream",
     "text": [
      "100%|██████████| 1/1 [00:12<00:00, 12.97s/it]\n"
     ]
    },
    {
     "data": {
      "text/plain": [
       "['https://trib.al/xXI5ruM',\n",
       " 'http://bit.ly/1Sv81cj',\n",
       " 'https://www.youtube.com/watch?v=8NwKcfXvGl4',\n",
       " 'https://www.nfib.com/content/press-release/elections/small-business-endorses-shuster-for-reelection-73730/?utm_campaign=Advocacy&utm_source=Twitter&utm_medium=Social']"
      ]
     },
     "execution_count": 13,
     "metadata": {},
     "output_type": "execute_result"
    }
   ],
   "source": [
    "resolved_links = urlexpander.expand(urls, \n",
    "                                    filter_function=custom_filter, \n",
    "                                    verbose=1)\n",
    "resolved_links"
   ]
  },
  {
   "cell_type": "markdown",
   "metadata": {},
   "source": [
    "Although filtering within the `expand` function is convenient, you will see changes in performance time."
   ]
  },
  {
   "cell_type": "code",
   "execution_count": 14,
   "metadata": {},
   "outputs": [
    {
     "name": "stdout",
     "output_type": "stream",
     "text": [
      "There are 3 URLs to expand\n"
     ]
    },
    {
     "name": "stderr",
     "output_type": "stream",
     "text": [
      "100%|██████████| 1/1 [00:29<00:00, 29.53s/it]\n"
     ]
    },
    {
     "data": {
      "text/plain": [
       "['https://www.breitbart.com/clips/2017/12/31/lindsey-graham-trump-just-cant-tweet-iran/',\n",
       " 'https://www.hugedomains.com/domain_profile.cfm?d=billshusterforcongress&e=com',\n",
       " 'https://www.youtube.com/watch?v=8NwKcfXvGl4',\n",
       " 'https://www.nfib.com/content/press-release/elections/small-business-endorses-shuster-for-reelection-73730/?utm_campaign=Advocacy&utm_source=Twitter&utm_medium=Social']"
      ]
     },
     "execution_count": 14,
     "metadata": {},
     "output_type": "execute_result"
    }
   ],
   "source": [
    "resolved_links = urlexpander.expand(urls,  \n",
    "                                    filter_function=urlexpander.url_utils.is_short,\n",
    "                                    verbose=1)\n",
    "resolved_links"
   ]
  },
  {
   "cell_type": "markdown",
   "metadata": {},
   "source": [
    "<hr>"
   ]
  },
  {
   "cell_type": "markdown",
   "metadata": {},
   "source": [
    "But that is a toy example, let's see how this fairs with a larger dataset.<br>\n",
    "This package comes with a [sampled dataset](https://github.com/SMAPPNYU/urlExpander/blob/master/urlexpander/core/datasets.py#L8-L29) of links extracted from Twitter accounts from the 115th Congress. <br>\n",
    "If you work with Twitter data you'll be glad to know there is a function `urlexpander.tweet_utils.get_link` for creating a similar dataset from Tweets."
   ]
  },
  {
   "cell_type": "code",
   "execution_count": 15,
   "metadata": {},
   "outputs": [
    {
     "name": "stdout",
     "output_type": "stream",
     "text": [
      "The dataset has 100 rows\n"
     ]
    },
    {
     "data": {
      "text/html": [
       "<div>\n",
       "<style scoped>\n",
       "    .dataframe tbody tr th:only-of-type {\n",
       "        vertical-align: middle;\n",
       "    }\n",
       "\n",
       "    .dataframe tbody tr th {\n",
       "        vertical-align: top;\n",
       "    }\n",
       "\n",
       "    .dataframe thead th {\n",
       "        text-align: right;\n",
       "    }\n",
       "</style>\n",
       "<table border=\"1\" class=\"dataframe\">\n",
       "  <thead>\n",
       "    <tr style=\"text-align: right;\">\n",
       "      <th></th>\n",
       "      <th>link_domain</th>\n",
       "      <th>link_url_long</th>\n",
       "      <th>link_url_short</th>\n",
       "      <th>tweet_created_at</th>\n",
       "      <th>tweet_id</th>\n",
       "      <th>tweet_text</th>\n",
       "      <th>user_id</th>\n",
       "    </tr>\n",
       "  </thead>\n",
       "  <tbody>\n",
       "    <tr>\n",
       "      <th>98</th>\n",
       "      <td>on.fb.me</td>\n",
       "      <td>http://on.fb.me/pt4GTD</td>\n",
       "      <td>http://t.co/6gG88Kb</td>\n",
       "      <td>Tue Aug 02 23:01:13 +0000 2011</td>\n",
       "      <td>98528808268857344</td>\n",
       "      <td>Hope you can make it to my town hall in #Modes...</td>\n",
       "      <td>248699486</td>\n",
       "    </tr>\n",
       "    <tr>\n",
       "      <th>99</th>\n",
       "      <td>facebook.com</td>\n",
       "      <td>https://www.facebook.com/HouseSmallBizDemocrats/</td>\n",
       "      <td>https://t.co/FZgTIq9l2N</td>\n",
       "      <td>Thu Jul 06 14:00:03 +0000 2017</td>\n",
       "      <td>882962350256513025</td>\n",
       "      <td>Follow Small Business Dems on Facebook to lear...</td>\n",
       "      <td>164369297</td>\n",
       "    </tr>\n",
       "  </tbody>\n",
       "</table>\n",
       "</div>"
      ],
      "text/plain": [
       "     link_domain                                     link_url_long  \\\n",
       "98      on.fb.me                            http://on.fb.me/pt4GTD   \n",
       "99  facebook.com  https://www.facebook.com/HouseSmallBizDemocrats/   \n",
       "\n",
       "             link_url_short                tweet_created_at  \\\n",
       "98      http://t.co/6gG88Kb  Tue Aug 02 23:01:13 +0000 2011   \n",
       "99  https://t.co/FZgTIq9l2N  Thu Jul 06 14:00:03 +0000 2017   \n",
       "\n",
       "              tweet_id                                         tweet_text  \\\n",
       "98   98528808268857344  Hope you can make it to my town hall in #Modes...   \n",
       "99  882962350256513025  Follow Small Business Dems on Facebook to lear...   \n",
       "\n",
       "      user_id  \n",
       "98  248699486  \n",
       "99  164369297  "
      ]
     },
     "execution_count": 15,
     "metadata": {},
     "output_type": "execute_result"
    }
   ],
   "source": [
    "df_congress = urlexpander.datasets.load_congress_twitter_links(nrows=100)\n",
    "\n",
    "print(f'The dataset has {len(df_congress)} rows')\n",
    "df_congress.tail(2)"
   ]
  },
  {
   "cell_type": "code",
   "execution_count": 16,
   "metadata": {},
   "outputs": [
    {
     "name": "stdout",
     "output_type": "stream",
     "text": [
      "About 38.0% of the links are short!\n"
     ]
    }
   ],
   "source": [
    "shortened_urls = df_congress[df_congress.link_domain.apply(urlexpander.url_utils.is_short)].tweet_id.nunique()\n",
    "all_urls = df_congress.tweet_id.nunique()\n",
    "print(f\"About {(shortened_urls / all_urls)*100}% of the links are short!\")"
   ]
  },
  {
   "cell_type": "markdown",
   "metadata": {},
   "source": [
    "The performance of the next script is dependent on your internet connection:"
   ]
  },
  {
   "cell_type": "code",
   "execution_count": 17,
   "metadata": {},
   "outputs": [],
   "source": [
    "# !curl -s https://raw.githubusercontent.com/sivel/speedtest-cli/master/speedtest.py | python -"
   ]
  },
  {
   "cell_type": "markdown",
   "metadata": {},
   "source": [
    "Let's see how long it takes to expand these links.<br>\n",
    "\n",
    "This is where the optional parameters for `expand` shine.\n",
    "We can created multiple threads for requests (using `n_workers`), cache results into a json file (`cache_file`), and chunk the input into smaller pieces (using `chunksize`). Why does this last part matter? Something I noticed when expanding links in mass is that performance degrades over time. Chunking the input prevents this from happening (not sure why though)!"
   ]
  },
  {
   "cell_type": "code",
   "execution_count": 18,
   "metadata": {},
   "outputs": [
    {
     "name": "stdout",
     "output_type": "stream",
     "text": [
      "There are 38 URLs to expand\n"
     ]
    },
    {
     "name": "stderr",
     "output_type": "stream",
     "text": [
      "100%|██████████| 1/1 [00:59<00:00, 59.38s/it]\n"
     ]
    }
   ],
   "source": [
    "resolved_links = urlexpander.expand(df_congress['link_url_long'], \n",
    "                                    chunksize=1280,\n",
    "                                    n_workers=8, \n",
    "                                    cache_file=os.path.join('output', 'temp_cache.json'), \n",
    "                                    verbose=1,\n",
    "                                    filter_function=urlexpander.url_utils.is_short)"
   ]
  },
  {
   "cell_type": "markdown",
   "metadata": {},
   "source": [
    "At SMaPP, the process of link expansion has been a burden on our research.<br>\n",
    "We hope that this software helps you overcome similar obstacles!"
   ]
  },
  {
   "cell_type": "code",
   "execution_count": 19,
   "metadata": {},
   "outputs": [
    {
     "data": {
      "text/html": [
       "<div>\n",
       "<style scoped>\n",
       "    .dataframe tbody tr th:only-of-type {\n",
       "        vertical-align: middle;\n",
       "    }\n",
       "\n",
       "    .dataframe tbody tr th {\n",
       "        vertical-align: top;\n",
       "    }\n",
       "\n",
       "    .dataframe thead th {\n",
       "        text-align: right;\n",
       "    }\n",
       "</style>\n",
       "<table border=\"1\" class=\"dataframe\">\n",
       "  <thead>\n",
       "    <tr style=\"text-align: right;\">\n",
       "      <th></th>\n",
       "      <th>link_domain</th>\n",
       "      <th>link_url_long</th>\n",
       "      <th>link_url_short</th>\n",
       "      <th>tweet_created_at</th>\n",
       "      <th>tweet_id</th>\n",
       "      <th>tweet_text</th>\n",
       "      <th>user_id</th>\n",
       "      <th>expanded_url</th>\n",
       "      <th>resolved_domain</th>\n",
       "    </tr>\n",
       "  </thead>\n",
       "  <tbody>\n",
       "    <tr>\n",
       "      <th>98</th>\n",
       "      <td>on.fb.me</td>\n",
       "      <td>http://on.fb.me/pt4GTD</td>\n",
       "      <td>http://t.co/6gG88Kb</td>\n",
       "      <td>Tue Aug 02 23:01:13 +0000 2011</td>\n",
       "      <td>98528808268857344</td>\n",
       "      <td>Hope you can make it to my town hall in #Modes...</td>\n",
       "      <td>248699486</td>\n",
       "      <td>https://www.facebook.com/RepJeffDenham/posts/1...</td>\n",
       "      <td>facebook.com</td>\n",
       "    </tr>\n",
       "    <tr>\n",
       "      <th>99</th>\n",
       "      <td>facebook.com</td>\n",
       "      <td>https://www.facebook.com/HouseSmallBizDemocrats/</td>\n",
       "      <td>https://t.co/FZgTIq9l2N</td>\n",
       "      <td>Thu Jul 06 14:00:03 +0000 2017</td>\n",
       "      <td>882962350256513025</td>\n",
       "      <td>Follow Small Business Dems on Facebook to lear...</td>\n",
       "      <td>164369297</td>\n",
       "      <td>https://www.facebook.com/HouseSmallBizDemocrats/</td>\n",
       "      <td>facebook.com</td>\n",
       "    </tr>\n",
       "  </tbody>\n",
       "</table>\n",
       "</div>"
      ],
      "text/plain": [
       "     link_domain                                     link_url_long  \\\n",
       "98      on.fb.me                            http://on.fb.me/pt4GTD   \n",
       "99  facebook.com  https://www.facebook.com/HouseSmallBizDemocrats/   \n",
       "\n",
       "             link_url_short                tweet_created_at  \\\n",
       "98      http://t.co/6gG88Kb  Tue Aug 02 23:01:13 +0000 2011   \n",
       "99  https://t.co/FZgTIq9l2N  Thu Jul 06 14:00:03 +0000 2017   \n",
       "\n",
       "              tweet_id                                         tweet_text  \\\n",
       "98   98528808268857344  Hope you can make it to my town hall in #Modes...   \n",
       "99  882962350256513025  Follow Small Business Dems on Facebook to lear...   \n",
       "\n",
       "      user_id                                       expanded_url  \\\n",
       "98  248699486  https://www.facebook.com/RepJeffDenham/posts/1...   \n",
       "99  164369297   https://www.facebook.com/HouseSmallBizDemocrats/   \n",
       "\n",
       "   resolved_domain  \n",
       "98    facebook.com  \n",
       "99    facebook.com  "
      ]
     },
     "execution_count": 19,
     "metadata": {},
     "output_type": "execute_result"
    }
   ],
   "source": [
    "df_congress['expanded_url'] = resolved_links\n",
    "df_congress['resolved_domain'] = df_congress['expanded_url'].apply(urlexpander.url_utils.get_domain)\n",
    "df_congress.tail(2)"
   ]
  },
  {
   "cell_type": "markdown",
   "metadata": {},
   "source": [
    "Here are the top 25 shared domains from this sampled Congress dataset:"
   ]
  },
  {
   "cell_type": "code",
   "execution_count": 20,
   "metadata": {},
   "outputs": [
    {
     "data": {
      "text/plain": [
       "twitter.com            15\n",
       "facebook.com           11\n",
       "house.gov               4\n",
       "senate.gov              3\n",
       "politico.com            3\n",
       "youtube.com             2\n",
       "wapa.tv                 2\n",
       "google.com              2\n",
       "healthcare.gov          2\n",
       "usa.gov                 2\n",
       "nytimes.com             2\n",
       "instagram.com           2\n",
       "cityofhesperia.us       1\n",
       "khanacademy.org         1\n",
       "wh.gov                  1\n",
       "billkeating.org         1\n",
       "huffpost.com            1\n",
       "mass.gov                1\n",
       "foxnews.com             1\n",
       "sarahpalin-blog.com     1\n",
       "vaildaily.com           1\n",
       "newyorker.com           1\n",
       "kokefm.com              1\n",
       "thinkprogress.org       1\n",
       "thehill.com             1\n",
       "Name: resolved_domain, dtype: int64"
      ]
     },
     "execution_count": 20,
     "metadata": {},
     "output_type": "execute_result"
    }
   ],
   "source": [
    "df_congress.resolved_domain.value_counts().head(25)"
   ]
  },
  {
   "cell_type": "markdown",
   "metadata": {},
   "source": [
    "<hr>"
   ]
  },
  {
   "cell_type": "markdown",
   "metadata": {},
   "source": [
    "# Bonus Round!\n",
    "You can count number of `resolved_domain`s for each `user_id ` using `count_matrix()`.<br>\n",
    "You can even choose which domains are counted by modifying the `domain_list` arg:"
   ]
  },
  {
   "cell_type": "code",
   "execution_count": 21,
   "metadata": {},
   "outputs": [
    {
     "data": {
      "text/html": [
       "<div>\n",
       "<style scoped>\n",
       "    .dataframe tbody tr th:only-of-type {\n",
       "        vertical-align: middle;\n",
       "    }\n",
       "\n",
       "    .dataframe tbody tr th {\n",
       "        vertical-align: top;\n",
       "    }\n",
       "\n",
       "    .dataframe thead th {\n",
       "        text-align: right;\n",
       "    }\n",
       "</style>\n",
       "<table border=\"1\" class=\"dataframe\">\n",
       "  <thead>\n",
       "    <tr style=\"text-align: right;\">\n",
       "      <th></th>\n",
       "      <th>facebook.com</th>\n",
       "      <th>youtube.com</th>\n",
       "      <th>twitter.com</th>\n",
       "      <th>google.com</th>\n",
       "    </tr>\n",
       "    <tr>\n",
       "      <th>user_id</th>\n",
       "      <th></th>\n",
       "      <th></th>\n",
       "      <th></th>\n",
       "      <th></th>\n",
       "    </tr>\n",
       "  </thead>\n",
       "  <tbody>\n",
       "    <tr>\n",
       "      <th>3026622545</th>\n",
       "      <td>1</td>\n",
       "      <td>0</td>\n",
       "      <td>0</td>\n",
       "      <td>0</td>\n",
       "    </tr>\n",
       "    <tr>\n",
       "      <th>817050219007328258</th>\n",
       "      <td>0</td>\n",
       "      <td>0</td>\n",
       "      <td>1</td>\n",
       "      <td>0</td>\n",
       "    </tr>\n",
       "    <tr>\n",
       "      <th>828977216595849216</th>\n",
       "      <td>0</td>\n",
       "      <td>0</td>\n",
       "      <td>1</td>\n",
       "      <td>0</td>\n",
       "    </tr>\n",
       "  </tbody>\n",
       "</table>\n",
       "</div>"
      ],
      "text/plain": [
       "                    facebook.com  youtube.com  twitter.com  google.com\n",
       "user_id                                                               \n",
       "3026622545                     1            0            0           0\n",
       "817050219007328258             0            0            1           0\n",
       "828977216595849216             0            0            1           0"
      ]
     },
     "execution_count": 21,
     "metadata": {},
     "output_type": "execute_result"
    }
   ],
   "source": [
    "count_matrix = urlexpander.tweet_utils.count_matrix(df_congress,\n",
    "                                                    user_col='user_id', \n",
    "                                                    domain_col='resolved_domain', \n",
    "                                                    unique_count_col='tweet_id',\n",
    "                                                    domain_list=['youtube.com','facebook.com', 'google.com', 'twitter.com'])\n",
    "\n",
    "count_matrix.tail(3)"
   ]
  },
  {
   "cell_type": "markdown",
   "metadata": {},
   "source": [
    "One of the domain lists you might be interested in are US national media outlets -\n",
    "`datasets.load_us_national_media_outlets()` compiled by Gregory Eady (Forthcoming)."
   ]
  },
  {
   "cell_type": "code",
   "execution_count": 22,
   "metadata": {},
   "outputs": [
    {
     "data": {
      "text/plain": [
       "array(['abcnews.go.com', 'aim.org', 'alternet.org',\n",
       "       'theamericanconservative.com', 'prospect.org'], dtype=object)"
      ]
     },
     "execution_count": 22,
     "metadata": {},
     "output_type": "execute_result"
    }
   ],
   "source": [
    "urlexpander.datasets.load_us_national_media_outlets()[:5]"
   ]
  },
  {
   "cell_type": "markdown",
   "metadata": {},
   "source": [
    "<hr>\n",
    "We also built a one-size-fits-all scraper that returns the title, description, and/or paragraphs from any given URL."
   ]
  },
  {
   "cell_type": "code",
   "execution_count": 23,
   "metadata": {},
   "outputs": [],
   "source": [
    "url = urls[0]\n",
    "example = urlexpander.expand_with_content(url)\n",
    "html = example['resolved_text']"
   ]
  },
  {
   "cell_type": "code",
   "execution_count": 24,
   "metadata": {},
   "outputs": [
    {
     "data": {
      "text/plain": [
       "\"Lindsey Graham to Trump: 'You Just Can't Tweet' About Iran\""
      ]
     },
     "execution_count": 24,
     "metadata": {},
     "output_type": "execute_result"
    }
   ],
   "source": [
    "urlexpander.html_utils.search_webpage_title(html)"
   ]
  },
  {
   "cell_type": "code",
   "execution_count": 25,
   "metadata": {},
   "outputs": [
    {
     "data": {
      "text/plain": [
       "'Sunday CBS\\'s \"Face the Nation,\" while discussing the last several\\xa0days of protests in Iran over\\xa0government corruption, Sen. Lindsey Graham (R-SC) warned | Clips'"
      ]
     },
     "execution_count": 25,
     "metadata": {},
     "output_type": "execute_result"
    }
   ],
   "source": [
    "urlexpander.html_utils.search_webpage_description(html)"
   ]
  },
  {
   "cell_type": "code",
   "execution_count": 26,
   "metadata": {},
   "outputs": [
    {
     "data": {
      "text/plain": [
       "{'url': 'https://trib.al/xXI5ruM',\n",
       " 'title': \"Lindsey Graham to Trump: 'You Just Can't Tweet' About Iran\",\n",
       " 'description': 'Sunday CBS\\'s \"Face the Nation,\" while discussing the last several\\xa0days of protests in Iran over\\xa0government corruption, Sen. Lindsey Graham (R-SC) warned | Clips',\n",
       " 'image_url': 'https://media.breitbart.com/media/2017/12/Lindsey-Graham.jpg'}"
      ]
     },
     "execution_count": 26,
     "metadata": {},
     "output_type": "execute_result"
    }
   ],
   "source": [
    "urlexpander.html_utils.search_webpage_meta(url, html)"
   ]
  },
  {
   "cell_type": "markdown",
   "metadata": {},
   "source": [
    "## Conclusion\n",
    "Thanks for stumbling upon this package, we hope that it will lead to more research around links.<br>\n",
    "We're working on some projects in this vein and would love to know if you are too!\n",
    "\n",
    "As an open source package, please feel to reach out about bugs, feature requests, or collaboration!"
   ]
  }
 ],
 "metadata": {
  "interpreter": {
   "hash": "6ef089999ddfba762244fa9244cef1b1c9f7aa2bcfb337c3a5c8fa89475ad7c0"
  },
  "kernelspec": {
   "display_name": "Python 3.8.10 64-bit ('urlExpander': virtualenv)",
   "name": "python3"
  },
  "language_info": {
   "codemirror_mode": {
    "name": "ipython",
    "version": 3
   },
   "file_extension": ".py",
   "mimetype": "text/x-python",
   "name": "python",
   "nbconvert_exporter": "python",
   "pygments_lexer": "ipython3",
   "version": "3.8.10"
  }
 },
 "nbformat": 4,
 "nbformat_minor": 2
}
