{
 "cells": [
  {
   "cell_type": "markdown",
   "metadata": {},
   "source": [
    "# News API Quickstart\n",
    "\n",
    "The News API's main functions are `fetch_urls()` and `fetch_urls_to_file()`. The latter outputs the retrieved content to a .jsonl file.\n",
    "\n",
    "Both functions require these two arguments:\n",
    "- `urls`: a dictionary or a list of dictionaries. Each dictionary should have a `url` key and a URL string as its value.\n",
    "    - To pass along extra info to the output, you can add (JSON serializable) key-value pairs to the input dictionary.\n",
    "- `fetch_function`:\n",
    "    - `request_active_url()`: request the URL directly (the URL is actively served by the URL domain).\n",
    "    - `request_archived_url()`: request the oldest archived version of the URL from the Internet Archive's Wayback Machine.\n",
    "    - `fetch_url()`: call `request_active_url()`. If it fails, call `request_archived_url()` as a fallback option.\n",
    "\n",
    "`fetch_urls_to_file()` also requires `path` and `filename` arguments.\n",
    "\n",
    "\n",
    "Every `fetch_function` returns a stringified JSON object with the following keys. If additional key-value pairs are included in the input dictionary, they are added to the output as well.\n",
    "\n",
    "- `article_maintext` (str): main text of the article extracted by [news-please](https://github.com/fhamborg/news-please)\n",
    "- `original_url` (str): the input URL\n",
    "- `resolved_url` (str): `response_url` processed for errors\n",
    "    - `http://example.com/__CLIENT_ERROR__`\n",
    "    - `http://example.com/__CONNECTIONPOOL_ERROR__`\n",
    "- `resolved_domain` (str): domain of `resolved_url`\n",
    "- `resolved_netloc` (str): network location of `resolved_url`\n",
    "- `standardized_url` (str): netloc + path + query of `resolved_url`\n",
    "    - Common analytics-related prefixes and query parameters are removed. The URL is also lower-cased.\n",
    "- `is_generic_url` (bool): indicates if the standardized URL is likely a generic URL which doesn't refer to a specific article's webpage. If `True`, `article_maintext` and `resolved_text` should probably be excluded as noisy data.\n",
    "- `response_code` (int): response status code\n",
    "- `response_reason` (str): response status code reason\n",
    "- `fetch_error` (bool): indicates success or failure of the HTTP request\n",
    "- `resolved_text` (str): the HTML returned by the server. This is useful if news-please's article extractor didn't succeed (`article_maintext`) and custom extraction logic is needed.\n",
    "- `FETCH_FUNCTION` (str): \"request_active_url\" or \"request_archived_url\"\n",
    "- `FETCH_AT` (str): \"2021-11-05T23:25:15.611729+00:00\" (timezone-aware UTC)\n"
   ]
  },
  {
   "cell_type": "code",
   "execution_count": 1,
   "metadata": {},
   "outputs": [],
   "source": [
    "import json\n",
    "import os\n",
    "import urlexpander"
   ]
  },
  {
   "cell_type": "code",
   "execution_count": 2,
   "metadata": {},
   "outputs": [],
   "source": [
    "dir_out = os.path.join('..', 'examples', 'output')"
   ]
  },
  {
   "cell_type": "code",
   "execution_count": 3,
   "metadata": {},
   "outputs": [],
   "source": [
    "def filter_keys(fetched, exclude_keys=['resolved_text', 'article_maintext']):\n",
    "    \"\"\"remove keys which show actual HTML/article text\n",
    "    Args:\n",
    "        fetched (dict)\n",
    "        excluded_keys (list)\n",
    "\n",
    "    Returns:\n",
    "        fetched (dict) - filtered\n",
    "    \"\"\"\n",
    "    return {k: fetched[k] for k in fetched.keys() if k not in exclude_keys}"
   ]
  },
  {
   "cell_type": "markdown",
   "metadata": {},
   "source": [
    "## Example URLs"
   ]
  },
  {
   "cell_type": "markdown",
   "metadata": {},
   "source": [
    "The first example with Breitbart's URL includes the minimum required information. \\\n",
    "The second example with One America News' URL adds an extra key-value pair, which will be passed along to the output."
   ]
  },
  {
   "cell_type": "code",
   "execution_count": 4,
   "metadata": {},
   "outputs": [],
   "source": [
    "examples = [\n",
    "    {\"url\": \"http://feedproxy.google.com/~r/breitbart/~3/bh9JQvQPihk/\"},\n",
    "    {\n",
    "        \"url\": \"http://www.oann.com/pm-abe-to-send-message-japan-wont-repeat-war-atrocities-2/\",\n",
    "        \"outlet\": \"One America News\",\n",
    "    },\n",
    "]\n"
   ]
  },
  {
   "cell_type": "markdown",
   "metadata": {},
   "source": [
    "## Fetch URLs (generator)"
   ]
  },
  {
   "cell_type": "markdown",
   "metadata": {},
   "source": [
    "When `fetch_function=urlexpander.fetch_url`, we first try to retrieve the article with a direct server request. If it fails, we try to fetch an archived version."
   ]
  },
  {
   "cell_type": "code",
   "execution_count": 5,
   "metadata": {},
   "outputs": [
    {
     "name": "stdout",
     "output_type": "stream",
     "text": [
      "url 0, fetch_url: http://feedproxy.google.com/~r/breitbart/~3/bh9JQvQPihk/\n",
      "url 1, fetch_url: http://www.oann.com/pm-abe-to-send-message-japan-wont-repeat-war-atrocities-2/\n"
     ]
    }
   ],
   "source": [
    "# generator\n",
    "g_ftc = urlexpander.fetch_urls(urls=examples, fetch_function=urlexpander.fetch_url)\n",
    "\n",
    "# fetch\n",
    "r_ftc = [json.loads(r) for r in g_ftc]\n",
    "\n",
    "# filter out keys with actual text\n",
    "r_ftc = [filter_keys(r) for r in r_ftc]"
   ]
  },
  {
   "cell_type": "code",
   "execution_count": 6,
   "metadata": {},
   "outputs": [
    {
     "name": "stdout",
     "output_type": "stream",
     "text": [
      "Fetched 2 URLs.\n"
     ]
    }
   ],
   "source": [
    "print(f\"Fetched {len(r_ftc)} URLs.\")"
   ]
  },
  {
   "cell_type": "markdown",
   "metadata": {},
   "source": [
    "In the Breitbart example, the direct request to the server succeeds. Since `fetch_error` is `False`, it doesn't trigger the fallback function to the archive."
   ]
  },
  {
   "cell_type": "code",
   "execution_count": 7,
   "metadata": {},
   "outputs": [
    {
     "data": {
      "text/plain": [
       "{'original_url': 'http://feedproxy.google.com/~r/breitbart/~3/bh9JQvQPihk/',\n",
       " 'resolved_url': 'https://www.breitbart.com/radio/2017/08/15/raheem-kassam-no-go-zones-statue-destruction-muslim-migration-left-wants-erase-america/?utm_source=feedburner&utm_medium=feed&utm_campaign=Feed%3A+breitbart+%28Breitbart+News%29',\n",
       " 'resolved_domain': 'breitbart.com',\n",
       " 'resolved_netloc': 'www.breitbart.com',\n",
       " 'standardized_url': 'www.breitbart.com/radio/2017/08/15/raheem-kassam-no-go-zones-statue-destruction-muslim-migration-left-wants-erase-america',\n",
       " 'is_generic_url': False,\n",
       " 'response_code': 200,\n",
       " 'response_reason': 'OK',\n",
       " 'fetch_error': False,\n",
       " 'FETCH_FUNCTION': 'request_active_url',\n",
       " 'FETCH_AT': '2021-11-05T23:25:15.611729+00:00'}"
      ]
     },
     "execution_count": 7,
     "metadata": {},
     "output_type": "execute_result"
    }
   ],
   "source": [
    "# returns from the first attempt\n",
    "r_ftc[0]"
   ]
  },
  {
   "cell_type": "markdown",
   "metadata": {},
   "source": [
    "In the One America News example, the retrieved content comes from the fallback request to the Internet Archive's Wayback Machine (`FETCH_FUNCTION: 'request_archived_url'`). This means that the first attempt with the direct server response failed."
   ]
  },
  {
   "cell_type": "code",
   "execution_count": 8,
   "metadata": {},
   "outputs": [
    {
     "data": {
      "text/plain": [
       "{'outlet': 'One America News',\n",
       " 'original_url': 'http://www.oann.com/pm-abe-to-send-message-japan-wont-repeat-war-atrocities-2/',\n",
       " 'resolved_url': 'http://www.oann.com/pm-abe-to-send-message-japan-wont-repeat-war-atrocities-2/',\n",
       " 'resolved_domain': 'oann.com',\n",
       " 'resolved_netloc': 'www.oann.com',\n",
       " 'standardized_url': 'www.oann.com/pm-abe-to-send-message-japan-wont-repeat-war-atrocities-2',\n",
       " 'is_generic_url': False,\n",
       " 'response_code': 200,\n",
       " 'response_reason': 'OK',\n",
       " 'fetch_error': False,\n",
       " 'FETCH_FUNCTION': 'request_archived_url',\n",
       " 'FETCH_AT': '2021-11-05T23:25:43.460667+00:00'}"
      ]
     },
     "execution_count": 8,
     "metadata": {},
     "output_type": "execute_result"
    }
   ],
   "source": [
    "# The HTML is stored in `resolved_text` and the extracted article is stored in `article_maintext`.\n",
    "# Due to copyright, these two keys are filtered out before displaying the output.\n",
    "r_ftc[1]"
   ]
  },
  {
   "cell_type": "markdown",
   "metadata": {},
   "source": [
    "To illustrate the two steps more clearly, we can retrieve the second example with `fetch_function=urlexpander.request_active_url` and `fetch_function=urlexpander.request_archived_url` separately."
   ]
  },
  {
   "cell_type": "code",
   "execution_count": 9,
   "metadata": {},
   "outputs": [
    {
     "name": "stdout",
     "output_type": "stream",
     "text": [
      "url 0, request_active_url: http://www.oann.com/pm-abe-to-send-message-japan-wont-repeat-war-atrocities-2/\n",
      "url 0, request_archived_url: http://www.oann.com/pm-abe-to-send-message-japan-wont-repeat-war-atrocities-2/\n"
     ]
    }
   ],
   "source": [
    "# generators\n",
    "g_exp = urlexpander.fetch_urls(urls=examples[1], fetch_function=urlexpander.request_active_url)\n",
    "g_wbm = urlexpander.fetch_urls(urls=examples[1], fetch_function=urlexpander.request_archived_url)\n",
    "\n",
    "# fetch\n",
    "r_exp = [json.loads(r) for r in g_exp][0]\n",
    "r_wbm = [json.loads(r) for r in g_wbm][0]\n",
    "\n",
    "# filter out keys with actual text\n",
    "r_exp = filter_keys(r_exp)\n",
    "r_wbm = filter_keys(r_wbm)"
   ]
  },
  {
   "cell_type": "markdown",
   "metadata": {},
   "source": [
    "The first attempt with `request_active_url` returns an error which triggers the fallback attempt to the archive."
   ]
  },
  {
   "cell_type": "code",
   "execution_count": 10,
   "metadata": {},
   "outputs": [
    {
     "data": {
      "text/plain": [
       "{'outlet': 'One America News',\n",
       " 'original_url': 'http://www.oann.com/pm-abe-to-send-message-japan-wont-repeat-war-atrocities-2/',\n",
       " 'resolved_url': 'http://oann.com/__CLIENT_ERROR__',\n",
       " 'resolved_domain': 'oann.com',\n",
       " 'resolved_netloc': 'oann.com',\n",
       " 'standardized_url': 'oann.com/__client_error__',\n",
       " 'is_generic_url': False,\n",
       " 'response_code': '',\n",
       " 'response_reason': '',\n",
       " 'fetch_error': True,\n",
       " 'FETCH_FUNCTION': 'request_active_url',\n",
       " 'FETCH_AT': '2021-11-05T23:25:57.292192+00:00'}"
      ]
     },
     "execution_count": 10,
     "metadata": {},
     "output_type": "execute_result"
    }
   ],
   "source": [
    "r_exp"
   ]
  },
  {
   "cell_type": "markdown",
   "metadata": {},
   "source": [
    "The `response_code` and `response_reason` indicate that the Wayback Machine has an archived version available. This is the same output we got when `fetch_function=urlexpander.fetch_url`."
   ]
  },
  {
   "cell_type": "code",
   "execution_count": 11,
   "metadata": {},
   "outputs": [
    {
     "data": {
      "text/plain": [
       "{'outlet': 'One America News',\n",
       " 'original_url': 'http://www.oann.com/pm-abe-to-send-message-japan-wont-repeat-war-atrocities-2/',\n",
       " 'resolved_url': 'http://www.oann.com/pm-abe-to-send-message-japan-wont-repeat-war-atrocities-2/',\n",
       " 'resolved_domain': 'oann.com',\n",
       " 'resolved_netloc': 'www.oann.com',\n",
       " 'standardized_url': 'www.oann.com/pm-abe-to-send-message-japan-wont-repeat-war-atrocities-2',\n",
       " 'is_generic_url': False,\n",
       " 'response_code': 200,\n",
       " 'response_reason': 'OK',\n",
       " 'fetch_error': False,\n",
       " 'FETCH_FUNCTION': 'request_archived_url',\n",
       " 'FETCH_AT': '2021-11-05T23:26:08.241936+00:00'}"
      ]
     },
     "execution_count": 11,
     "metadata": {},
     "output_type": "execute_result"
    }
   ],
   "source": [
    "r_wbm"
   ]
  },
  {
   "cell_type": "markdown",
   "metadata": {},
   "source": [
    "## Fetch URLs and store the fetched content in a .jsonl file"
   ]
  },
  {
   "cell_type": "code",
   "execution_count": 12,
   "metadata": {},
   "outputs": [],
   "source": [
    "# set filenames\n",
    "fn_ftc = f\"news_api_examples.jsonl\""
   ]
  },
  {
   "cell_type": "code",
   "execution_count": 13,
   "metadata": {},
   "outputs": [
    {
     "name": "stdout",
     "output_type": "stream",
     "text": [
      "url 0, fetch_url: http://feedproxy.google.com/~r/breitbart/~3/bh9JQvQPihk/\n",
      "url 1, fetch_url: http://www.oann.com/pm-abe-to-send-message-japan-wont-repeat-war-atrocities-2/\n"
     ]
    }
   ],
   "source": [
    "# write to file\n",
    "urlexpander.fetch_urls_to_file(\n",
    "    urls=examples,\n",
    "    fetch_function=urlexpander.fetch_url,\n",
    "    path=dir_out,\n",
    "    filename=fn_ftc,\n",
    "    write_mode=\"a\",\n",
    ")\n"
   ]
  },
  {
   "cell_type": "code",
   "execution_count": 14,
   "metadata": {},
   "outputs": [],
   "source": [
    "# read from file\n",
    "g_ftc_file = urlexpander.load_fetched_from_file(path=dir_out, filename=fn_ftc)"
   ]
  },
  {
   "cell_type": "code",
   "execution_count": 15,
   "metadata": {},
   "outputs": [],
   "source": [
    "# fetch\n",
    "r_ftc_file = [json.loads(r)  for r in g_ftc_file]"
   ]
  },
  {
   "cell_type": "code",
   "execution_count": 16,
   "metadata": {},
   "outputs": [],
   "source": [
    "# filter out keys with actual text\n",
    "r_ftc_file = [filter_keys(r) for r in r_ftc_file]"
   ]
  },
  {
   "cell_type": "code",
   "execution_count": 17,
   "metadata": {},
   "outputs": [
    {
     "name": "stdout",
     "output_type": "stream",
     "text": [
      "Loaded fetched content for 2 URLs from news_api_examples.jsonl.\n"
     ]
    }
   ],
   "source": [
    "print(f\"Loaded fetched content for {len(r_ftc_file)} URLs from {fn_ftc}.\")"
   ]
  },
  {
   "cell_type": "code",
   "execution_count": 18,
   "metadata": {},
   "outputs": [
    {
     "data": {
      "text/plain": [
       "{'original_url': 'http://feedproxy.google.com/~r/breitbart/~3/bh9JQvQPihk/',\n",
       " 'resolved_url': 'https://www.breitbart.com/radio/2017/08/15/raheem-kassam-no-go-zones-statue-destruction-muslim-migration-left-wants-erase-america/?utm_source=feedburner&utm_medium=feed&utm_campaign=Feed%3A+breitbart+%28Breitbart+News%29',\n",
       " 'resolved_domain': 'breitbart.com',\n",
       " 'resolved_netloc': 'www.breitbart.com',\n",
       " 'standardized_url': 'www.breitbart.com/radio/2017/08/15/raheem-kassam-no-go-zones-statue-destruction-muslim-migration-left-wants-erase-america',\n",
       " 'is_generic_url': False,\n",
       " 'response_code': 200,\n",
       " 'response_reason': 'OK',\n",
       " 'fetch_error': False,\n",
       " 'FETCH_FUNCTION': 'request_active_url',\n",
       " 'FETCH_AT': '2021-11-05T23:26:17.441628+00:00'}"
      ]
     },
     "execution_count": 18,
     "metadata": {},
     "output_type": "execute_result"
    }
   ],
   "source": [
    "r_ftc_file[0]"
   ]
  },
  {
   "cell_type": "code",
   "execution_count": 19,
   "metadata": {},
   "outputs": [
    {
     "data": {
      "text/plain": [
       "{'outlet': 'One America News',\n",
       " 'original_url': 'http://www.oann.com/pm-abe-to-send-message-japan-wont-repeat-war-atrocities-2/',\n",
       " 'resolved_url': 'http://www.oann.com/pm-abe-to-send-message-japan-wont-repeat-war-atrocities-2/',\n",
       " 'resolved_domain': 'oann.com',\n",
       " 'resolved_netloc': 'www.oann.com',\n",
       " 'standardized_url': 'www.oann.com/pm-abe-to-send-message-japan-wont-repeat-war-atrocities-2',\n",
       " 'is_generic_url': False,\n",
       " 'response_code': 200,\n",
       " 'response_reason': 'OK',\n",
       " 'fetch_error': False,\n",
       " 'FETCH_FUNCTION': 'request_archived_url',\n",
       " 'FETCH_AT': '2021-11-05T23:26:41.223514+00:00'}"
      ]
     },
     "execution_count": 19,
     "metadata": {},
     "output_type": "execute_result"
    }
   ],
   "source": [
    "r_ftc_file[1]"
   ]
  }
 ],
 "metadata": {
  "interpreter": {
   "hash": "6ef089999ddfba762244fa9244cef1b1c9f7aa2bcfb337c3a5c8fa89475ad7c0"
  },
  "kernelspec": {
   "display_name": "Python 3.8.10 64-bit ('urlExpander': virtualenv)",
   "name": "python3"
  },
  "language_info": {
   "codemirror_mode": {
    "name": "ipython",
    "version": 3
   },
   "file_extension": ".py",
   "mimetype": "text/x-python",
   "name": "python",
   "nbconvert_exporter": "python",
   "pygments_lexer": "ipython3",
   "version": "3.8.10"
  },
  "orig_nbformat": 4
 },
 "nbformat": 4,
 "nbformat_minor": 2
}
